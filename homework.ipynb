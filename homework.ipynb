{
 "cells": [
  {
   "cell_type": "code",
   "id": "initial_id",
   "metadata": {
    "collapsed": true,
    "ExecuteTime": {
     "end_time": "2025-05-29T09:09:13.938327Z",
     "start_time": "2025-05-29T09:09:13.694221Z"
    }
   },
   "source": [
    "import torch\n",
    "from transformers import AutoTokenizer, AutoModelForSequenceClassification\n",
    "\n",
    "# 加载模型\n",
    "model_path = \"C:/Users/11311/PycharmProjects/pythonProject2/homework6/models/bert-base-chinese\"\n",
    "tokenizer = AutoTokenizer.from_pretrained(model_path)\n",
    "model = AutoModelForSequenceClassification.from_pretrained(\n",
    "    model_path,\n",
    "    use_safetensors=True,\n",
    "    num_labels=2\n",
    ")\n",
    "\n",
    "def predict_sentiment(text):\n",
    "    inputs = tokenizer(text, return_tensors=\"pt\", truncation=True, padding=True)\n",
    "    with torch.no_grad():\n",
    "        outputs = model(**inputs)\n",
    "        logits = outputs.logits\n",
    "        predicted_class = torch.argmax(logits, dim=1).item()\n",
    "        return \"正面\" if predicted_class == 1 else \"负面\"\n",
    "\n",
    "# 测试数据\n",
    "movie_review = \"演员表演浮夸，完全无法让人产生代入感。\"\n",
    "food_review = \"味道超级赞，和店里堂食一样好吃，五星好评！\"\n",
    "\n",
    "# 执行预测\n",
    "print(f\" {movie_review} → {predict_sentiment(movie_review)}\")\n",
    "print(f\" {food_review} → {predict_sentiment(food_review)}\")"
   ],
   "outputs": [
    {
     "name": "stderr",
     "output_type": "stream",
     "text": [
      "Some weights of BertForSequenceClassification were not initialized from the model checkpoint at C:/Users/11311/PycharmProjects/pythonProject2/homework6/models/bert-base-chinese and are newly initialized: ['classifier.bias', 'classifier.weight']\n",
      "You should probably TRAIN this model on a down-stream task to be able to use it for predictions and inference.\n"
     ]
    },
    {
     "name": "stdout",
     "output_type": "stream",
     "text": [
      " 演员表演浮夸，完全无法让人产生代入感。 → 负面\n",
      " 味道超级赞，和店里堂食一样好吃，五星好评！ → 正面\n"
     ]
    }
   ],
   "execution_count": 4
  },
  {
   "metadata": {
    "ExecuteTime": {
     "end_time": "2025-05-29T09:09:14.940543Z",
     "start_time": "2025-05-29T09:09:13.950790Z"
    }
   },
   "cell_type": "code",
   "source": [
    "import os\n",
    "os.environ['HF_ENDPOINT'] = 'https://hf-mirror.com'  # 镜像设置（中国大陆用户）\n",
    "\n",
    "from transformers import AutoTokenizer, AutoModelForCausalLM\n",
    "\n",
    "model_path = \"C:/Users/11311/PycharmProjects/pythonProject2/homework6/models/gpt2-chinese-cluecorpussmall\"\n",
    "\n",
    "# 加载模型\n",
    "tokenizer = AutoTokenizer.from_pretrained(model_path)\n",
    "model = AutoModelForCausalLM.from_pretrained(model_path)\n",
    "\n",
    "# 生成文本\n",
    "def generate_text(prompt, max_length=50):\n",
    "    inputs = tokenizer(prompt, return_tensors=\"pt\")\n",
    "    outputs = model.generate(\n",
    "        inputs.input_ids,\n",
    "        max_length=max_length,\n",
    "        num_return_sequences=1\n",
    "    )\n",
    "    return tokenizer.decode(outputs[0], skip_special_tokens=True)\n",
    "\n",
    "print(generate_text(\"我走进了那扇从未打开过的门\"))"
   ],
   "id": "164cd73a4ea64e42",
   "outputs": [
    {
     "name": "stderr",
     "output_type": "stream",
     "text": [
      "The attention mask and the pad token id were not set. As a consequence, you may observe unexpected behavior. Please pass your input's `attention_mask` to obtain reliable results.\n",
      "Setting `pad_token_id` to `eos_token_id`:50256 for open-end generation.\n"
     ]
    },
    {
     "name": "stdout",
     "output_type": "stream",
     "text": [
      "我 走 进 了 那 扇 从 未 打 开 过 的 门 我 走 进 了 那 扇 从 未 打 开 过 的 门 。 我 走 进 了 那 扇 从 未 打 开 过 的 门 。\n"
     ]
    }
   ],
   "execution_count": 5
  }
 ],
 "metadata": {
  "kernelspec": {
   "display_name": "Python 3",
   "language": "python",
   "name": "python3"
  },
  "language_info": {
   "codemirror_mode": {
    "name": "ipython",
    "version": 2
   },
   "file_extension": ".py",
   "mimetype": "text/x-python",
   "name": "python",
   "nbconvert_exporter": "python",
   "pygments_lexer": "ipython2",
   "version": "2.7.6"
  }
 },
 "nbformat": 4,
 "nbformat_minor": 5
}
